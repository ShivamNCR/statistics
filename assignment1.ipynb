{
 "cells": [
  {
   "cell_type": "code",
   "execution_count": null,
   "id": "a85a6b73-9211-471d-9f19-89f412d21e16",
   "metadata": {},
   "outputs": [],
   "source": [
    "'''QUESTIONS\n",
    "\n",
    "Q1. What is Statistics?\n",
    "\n",
    "Q2. Define the different types of statistics and give an example of when each type might be used.\n",
    "\n",
    "Q3. What are the different types of data and how do they differ from each other? Provide an example of\n",
    "each type of data.\n",
    "\n",
    "Q4. Categorise the following datasets with respect to quantitative and qualitative data types:\n",
    "(i) Grading in exam: A+, A, B+, B, C+, C, D, E\n",
    "(ii) Colour of mangoes: yellow, green, orange, red\n",
    "(iii) Height data of a class: [178.9, 179, 179.5, 176, 177.2, 178.3, 175.8,...]\n",
    "(iv) Number of mangoes exported by a farm: [500, 600, 478, 672, ...]\n",
    "\n",
    "Q5. Explain the concept of levels of measurement and give an example of a variable for each level.\n",
    "\n",
    "Q6. Why is it important to understand the level of measurement when analyzing data? Provide an\n",
    "example to illustrate your answer.\n",
    "\n",
    "Q7. How nominal data type is different from ordinal data type.\n",
    "\n",
    "Q8. Which type of plot can be used to display data in terms of range?\n",
    "\n",
    "Q9. Describe the difference between descriptive and inferential statistics. Give an example of each\n",
    "type of statistics and explain how they are used.\n",
    "\n",
    "Q10. What are some common measures of central tendency and variability used in statistics? Explain\n",
    "how each measure can be used to describe a dataset.\n"
   ]
  },
  {
   "cell_type": "code",
   "execution_count": null,
   "id": "98a267ed-95f0-46fa-9692-fe22595bed9d",
   "metadata": {},
   "outputs": [],
   "source": [
    "#Sol1. \n",
    "\n",
    "##It is the science of collecting,organising and analyzing the data.It helps in decision making process.\n",
    "  "
   ]
  },
  {
   "cell_type": "code",
   "execution_count": null,
   "id": "b6a6d8b6-9a85-4f4f-810a-fd788148e663",
   "metadata": {},
   "outputs": [],
   "source": [
    "#Sol2.\n",
    "\n",
    "##Types of statistics are:\n",
    "# 1.Descriptive statistics                  2.Inferential statistics\n",
    "    \n",
    "# 1.Descriptive : It consists of organising and summarising data.\n",
    "# Ex. what is the average height of entire classroom.\n",
    "\n",
    "# 2.Inferential:It consist of using data that you have measured to form conclusion.\n",
    "# Ex.Are the height of students in classroom similar to what you expect in entire college?"
   ]
  },
  {
   "cell_type": "code",
   "execution_count": null,
   "id": "c8ef1d3e-3da9-4823-ab6c-bdb7bb1da323",
   "metadata": {},
   "outputs": [],
   "source": [
    "#Sol3.Different types of data are:\n",
    "\n",
    "#1.Qualitative data.ex.fruits name.\n",
    "#It is represented by categorical variable.\n",
    "\n",
    "'Qualitative types':#1.Nominal    2.Ordinal.\n",
    "\n",
    "#2.Quantitative data.ex.heights of students of classroom.\n",
    "#It consists of numbers.\n",
    "\n",
    "'quantitative types':#1.Discrete    2.continuous.\n",
    "\n",
    "\n"
   ]
  },
  {
   "cell_type": "code",
   "execution_count": null,
   "id": "ac80c12a-53ab-4786-8265-15cb7e86aef4",
   "metadata": {},
   "outputs": [],
   "source": [
    "#Sol4.\n",
    "\n",
    "#1. Qualitative\n",
    "#2. Qualitative\n",
    "#3. Quantitative\n",
    "#4. Quantitative"
   ]
  },
  {
   "cell_type": "code",
   "execution_count": null,
   "id": "9d8cd6fe-5e73-4550-98e0-ab7306d78945",
   "metadata": {},
   "outputs": [],
   "source": [
    "#Sol5.\n",
    "\n",
    "# Level of measurement of data tells us about the data characteristics such as qualitative/quantitative,\n",
    "# ordinal,nominal etc.\n",
    "\n",
    "#level of meesurement are as follows:\n",
    "\n",
    "#1.Nominal scale data. Ex.gender\n",
    " \n",
    "#2.Ordinal scale data. Ex.feedback of a course\n",
    "\n",
    "#3.Interval scale data. Ex.temperature\n",
    "\n",
    "#4.Ratio scale data. Ex.student marks"
   ]
  },
  {
   "cell_type": "code",
   "execution_count": null,
   "id": "c3c13b93-42f0-4e53-a221-1d1dbcc4bebb",
   "metadata": {},
   "outputs": [],
   "source": [
    "#Sol.6.\n",
    "\n",
    "#Levels of measurement of data tells us about the what is the type of data,beheviour of data whether \n",
    "#it is nominal ,ordinal,continuous,discrete  etc.\n",
    "\n",
    "#Ex.Favourite colour(qualitative),feedback(good,bad,best),temperature of a week(interval scale) etc."
   ]
  },
  {
   "cell_type": "code",
   "execution_count": null,
   "id": "554f085d-10e4-4195-9f85-4eef4488e23a",
   "metadata": {},
   "outputs": [],
   "source": [
    "#Sol.7.\n",
    "\n",
    "#Both type of data are qualitative but in nominal data we have no rank in data whereas we have rank in ordinal.\n",
    "\n",
    "#Ex.Gender(nominal),(good,bad,best)(ordinal)."
   ]
  },
  {
   "cell_type": "code",
   "execution_count": null,
   "id": "ac2d2c22-3fc4-4b90-81c1-ca8cb3fb2443",
   "metadata": {},
   "outputs": [],
   "source": [
    "#Sol.8.\n",
    "\n",
    "#Histogram. "
   ]
  },
  {
   "cell_type": "code",
   "execution_count": null,
   "id": "4c995b26-e5df-4e4b-8052-b69a44d71aa3",
   "metadata": {},
   "outputs": [],
   "source": [
    "#Sol.9.\n",
    "\n",
    "#Descriptive statistics focus on describing the visible characteristics of a\n",
    "#dataset (a population or sample). \n",
    "#Meanwhile, inferential statistics focus on making predictions or generalizations about a larger dataset,\n",
    "#based on a sample of those data."
   ]
  },
  {
   "cell_type": "code",
   "execution_count": null,
   "id": "357913ea-17a6-4dd5-9c31-171018ea2574",
   "metadata": {},
   "outputs": [],
   "source": [
    "#Sol.10.\n",
    "\n",
    "#The four measures of central tendency are mean, median, mode and the midrange.\n",
    "#Here, mid-range or mid-extreme of a set of statistical data values is the arithmetic mean of the\n",
    "#maximum and minimum values in a data set.\n",
    "\n",
    "#1.Mean: sum of all data elements divided by no of elements in dataset.\n",
    "\n",
    "#2.Median:mid element in dataset after sorting of dataset.\n",
    "\n",
    "#3.Mode:maximum time repeated data elements "
   ]
  }
 ],
 "metadata": {
  "kernelspec": {
   "display_name": "Python 3 (ipykernel)",
   "language": "python",
   "name": "python3"
  },
  "language_info": {
   "codemirror_mode": {
    "name": "ipython",
    "version": 3
   },
   "file_extension": ".py",
   "mimetype": "text/x-python",
   "name": "python",
   "nbconvert_exporter": "python",
   "pygments_lexer": "ipython3",
   "version": "3.10.8"
  }
 },
 "nbformat": 4,
 "nbformat_minor": 5
}
