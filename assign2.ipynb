{
 "cells": [
  {
   "cell_type": "code",
   "execution_count": null,
   "id": "c1ce6a22-b134-493a-9123-cac5808fc4fe",
   "metadata": {},
   "outputs": [],
   "source": [
    "#QUESTIONS\n",
    "\n",
    "Q1. What are the three measures of central tendency?\n",
    "Q2. What is the difference between the mean, median, and mode? How are they used to measure the\n",
    "central tendency of a dataset?\n",
    "Q3. Measure the three measures of central tendency for the given height data:\n",
    "[178,177,176,177,178.2,178,175,179,180,175,178.9,176.2,177,172.5,178,176.5]\n",
    "Q4. Find the standard deviation for the given data:\n",
    "[178,177,176,177,178.2,178,175,179,180,175,178.9,176.2,177,172.5,178,176.5]\n",
    "Q5. How are measures of dispersion such as range, variance, and standard deviation used to describe\n",
    "the spread of a dataset? Provide an example.\n",
    "Q6. What is a Venn diagram?\n",
    "Q7. For the two given sets A = (2,3,4,5,6,7) & B = (0,2,6,8,10). Find:\n",
    "(i) A B\n",
    "(ii) A ⋃ B\n",
    "Q8. What do you understand about skewness in data?\n",
    "Q9. If a data is right skewed then what will be the position of median with respect to mean?\n",
    "Q10. Explain the difference between covariance and correlation. How are these measures used in\n",
    "statistical analysis?\n",
    "Q11. What is the formula for calculating the sample mean? Provide an example calculation for a\n",
    "dataset.\n",
    "Q12. For a normal distribution data what is the relationship between its measure of central tendency?\n",
    "Q13. How is covariance different from correlation?\n",
    "Q14. How do outliers affect measures of central tendency and dispersion? Provide an example."
   ]
  },
  {
   "cell_type": "code",
   "execution_count": null,
   "id": "7d2eb492-3c4f-49ff-b1db-417c8527ad9e",
   "metadata": {},
   "outputs": [],
   "source": [
    "#Sol.1\n",
    "\n",
    "There are three main measures of central tendency: mode. median. mean."
   ]
  },
  {
   "cell_type": "code",
   "execution_count": null,
   "id": "69c49206-6365-4bef-8787-118eb541eef6",
   "metadata": {},
   "outputs": [],
   "source": [
    "#Sol.2\n",
    "\n",
    "Mean :The mean is the average where the sum of all the numbers is divided by the total number of numbers.\n",
    "\n",
    "Median: Median is the middle value in the list of given numbers numerically ordered from smallest to biggest .\n",
    "\n",
    "Mode: Mode is the value of the number which occurs most often in the list."
   ]
  },
  {
   "cell_type": "code",
   "execution_count": 3,
   "id": "ec1a1292-b1dd-4212-b36a-02904daa68df",
   "metadata": {},
   "outputs": [],
   "source": [
    "#Sol.3\n",
    "\n",
    "data=[178,177,176,177,178.2,178,175,179,180,175,178.9,176.2,177,172.5,178,176.5]\n",
    "\n"
   ]
  },
  {
   "cell_type": "code",
   "execution_count": 5,
   "id": "cf6e61d3-625a-4c35-9e13-46bc007c71b0",
   "metadata": {},
   "outputs": [
    {
     "data": {
      "text/plain": [
       "177.01875"
      ]
     },
     "execution_count": 5,
     "metadata": {},
     "output_type": "execute_result"
    }
   ],
   "source": [
    "#mean\n",
    "import numpy as np\n",
    "np.mean(data)\n"
   ]
  },
  {
   "cell_type": "code",
   "execution_count": 7,
   "id": "3dbc1734-7937-4353-993e-a951dfe3731a",
   "metadata": {},
   "outputs": [
    {
     "data": {
      "text/plain": [
       "177.0"
      ]
     },
     "execution_count": 7,
     "metadata": {},
     "output_type": "execute_result"
    }
   ],
   "source": [
    "#median\n",
    "np.median(data)"
   ]
  },
  {
   "cell_type": "code",
   "execution_count": 11,
   "id": "95033c03-ca4a-4c90-9b63-2700cf02c947",
   "metadata": {},
   "outputs": [
    {
     "name": "stderr",
     "output_type": "stream",
     "text": [
      "/tmp/ipykernel_2862/2800027621.py:2: FutureWarning: Unlike other reduction functions (e.g. `skew`, `kurtosis`), the default behavior of `mode` typically preserves the axis it acts along. In SciPy 1.11.0, this behavior will change: the default value of `keepdims` will become False, the `axis` over which the statistic is taken will be eliminated, and the value None will no longer be accepted. Set `keepdims` to True or False to avoid this warning.\n",
      "  stats.mode(data)\n"
     ]
    },
    {
     "data": {
      "text/plain": [
       "ModeResult(mode=array([177.]), count=array([3]))"
      ]
     },
     "execution_count": 11,
     "metadata": {},
     "output_type": "execute_result"
    }
   ],
   "source": [
    "#mode\n",
    "from scipy import stats\n",
    "stats.mode(data)"
   ]
  },
  {
   "cell_type": "code",
   "execution_count": 12,
   "id": "36c2ae3f-cd7c-4b44-8a8a-d94df4fa9545",
   "metadata": {},
   "outputs": [],
   "source": [
    "#Sol.4\n",
    "\n",
    "d=[178,177,176,177,178.2,178,175,179,180,175,178.9,176.2,177,172.5,178,176.5]"
   ]
  },
  {
   "cell_type": "code",
   "execution_count": 13,
   "id": "15e190c5-b81c-47f3-99e4-8a50b9dff028",
   "metadata": {},
   "outputs": [
    {
     "data": {
      "text/plain": [
       "1.7885814036548633"
      ]
     },
     "execution_count": 13,
     "metadata": {},
     "output_type": "execute_result"
    }
   ],
   "source": [
    "import numpy as np\n",
    "np.std(d)"
   ]
  },
  {
   "cell_type": "code",
   "execution_count": null,
   "id": "63e98b46-4a15-437a-a4b6-a6498b5efdaa",
   "metadata": {},
   "outputs": [],
   "source": [
    "#Sol.5\n",
    "\n",
    "Range: It is simply the difference between the maximum value and the minimum value given in a data set. \n",
    "Example: 1, 3,5, 6, 7 => Range = 7 -1= 6.\n",
    "\n",
    "Variance: Calculate the mean from each data in the set, square each of them and add each square\n",
    "and finally divide them by the total no of values in the data set to get the variance. Variance (σ2) = ∑(X−μ)2/N\n",
    "\n",
    "Standard Deviation: The square root of the variance is known as the standard deviation i.e. S.D. = √σ."
   ]
  },
  {
   "cell_type": "code",
   "execution_count": null,
   "id": "bd6931d2-6c70-4e46-b888-35b9f66ce0af",
   "metadata": {},
   "outputs": [],
   "source": [
    "#Sol.6\n",
    "\n",
    "Venn diagram:A Venn diagram is a representation that uses circles to show the relationships among things\n",
    "or finite groups of data."
   ]
  },
  {
   "cell_type": "code",
   "execution_count": null,
   "id": "f8ebb9c6-b87b-4773-91c9-fcb08efbe5cd",
   "metadata": {},
   "outputs": [],
   "source": [
    "#Sol.7\n",
    "\n",
    "A = (2,3,4,5,6,7) & B = (0,2,6,8,10).\n",
    "\n",
    "1.(2,6)\n",
    "\n",
    "2.(0,2,3,4,5,6,7,8,10)."
   ]
  },
  {
   "cell_type": "code",
   "execution_count": null,
   "id": "4235877b-a113-46a2-b13e-e19bc236b126",
   "metadata": {},
   "outputs": [],
   "source": [
    "#Sol.8\n",
    "\n",
    "Skewness is a measure of the asymmetry of a distribution. \n",
    "\n",
    "A distribution is asymmetrical when its left and right side distribution is not same. \n",
    "\n",
    "A distribution can have right (or positive), left (or negative), or zero skewness."
   ]
  },
  {
   "cell_type": "code",
   "execution_count": null,
   "id": "5d4f0f7a-1686-4239-a752-5ba038670b62",
   "metadata": {},
   "outputs": [],
   "source": [
    "#Sol.9\n",
    "\n",
    "Median will be left to the mean."
   ]
  },
  {
   "cell_type": "code",
   "execution_count": null,
   "id": "cfa1c70d-91a4-4ea9-9eed-a59f1b8b578e",
   "metadata": {},
   "outputs": [],
   "source": [
    "#Sol.10\n",
    "\n",
    "Covariance indicates the direction of the linear relationship between variables. \n",
    "\n",
    "Correlation measures both the strength and direction of the linear relationship between two variables.\n",
    "\n"
   ]
  },
  {
   "cell_type": "code",
   "execution_count": null,
   "id": "3afdf773-9bb8-4507-b02e-4b4211abb5d5",
   "metadata": {},
   "outputs": [],
   "source": [
    "#Sol.11\n",
    "\n",
    "The general formula for calculating the sample mean is given by x̄ = ( Σ xi ) / n. \n",
    "\n",
    "Here, x̄ represents the sample mean\n",
    "xi refers all X sample values \n",
    "n stands for the number of sample terms in the data set."
   ]
  },
  {
   "cell_type": "code",
   "execution_count": null,
   "id": "4d732abc-de94-478e-89b3-4550fa87d1e6",
   "metadata": {},
   "outputs": [],
   "source": [
    "#Sol.12\n",
    "\n",
    "For normally distributed data, all three measures of central tendency will give you the same answer."
   ]
  },
  {
   "cell_type": "code",
   "execution_count": null,
   "id": "8f6f74c3-5f56-402b-84af-6c58d5dbeea5",
   "metadata": {},
   "outputs": [],
   "source": [
    "#Sol.13\n",
    "\n",
    "Covariance is an indicator of how two random variables change concerning each other. \n",
    "\n",
    "Correlation measures the strength of this relationship."
   ]
  },
  {
   "cell_type": "code",
   "execution_count": null,
   "id": "092dfae8-ca1f-4f9e-b8f7-16bd451b988a",
   "metadata": {},
   "outputs": [],
   "source": [
    "#Sol.14\n",
    "\n",
    "Outliers are numbers in a data set that are vastly larger or smaller than the other values in the set.\n",
    "\n",
    "Mean, median and mode are measures of central tendency. Mean is the only measure of central tendency \n",
    "that is always affected by an outlier.\n",
    "\n",
    "Ex.marks=[45,35,48,50,54,96]\n",
    "here, 96 is outlier which increses the mean of marks rapidly."
   ]
  }
 ],
 "metadata": {
  "kernelspec": {
   "display_name": "Python 3 (ipykernel)",
   "language": "python",
   "name": "python3"
  },
  "language_info": {
   "codemirror_mode": {
    "name": "ipython",
    "version": 3
   },
   "file_extension": ".py",
   "mimetype": "text/x-python",
   "name": "python",
   "nbconvert_exporter": "python",
   "pygments_lexer": "ipython3",
   "version": "3.10.8"
  }
 },
 "nbformat": 4,
 "nbformat_minor": 5
}
